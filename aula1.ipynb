{
  "nbformat": 4,
  "nbformat_minor": 0,
  "metadata": {
    "colab": {
      "provenance": [],
      "authorship_tag": "ABX9TyOEX65RHDu9pDmROCt9O5Tn",
      "include_colab_link": true
    },
    "kernelspec": {
      "name": "python3",
      "display_name": "Python 3"
    },
    "language_info": {
      "name": "python"
    }
  },
  "cells": [
    {
      "cell_type": "markdown",
      "metadata": {
        "id": "view-in-github",
        "colab_type": "text"
      },
      "source": [
        "<a href=\"https://colab.research.google.com/github/Carolalmeida96/aulaum/blob/main/aula1.ipynb\" target=\"_parent\"><img src=\"https://colab.research.google.com/assets/colab-badge.svg\" alt=\"Open In Colab\"/></a>"
      ]
    },
    {
      "cell_type": "code",
      "execution_count": null,
      "metadata": {
        "colab": {
          "base_uri": "https://localhost:8080/"
        },
        "id": "XyxNWoKDGgxW",
        "outputId": "19a03028-c01a-4878-c0fa-47228e94183d"
      },
      "outputs": [
        {
          "output_type": "stream",
          "name": "stdout",
          "text": [
            "qualquer coisa\n"
          ]
        }
      ],
      "source": [
        "print('qualquer coisa')"
      ]
    },
    {
      "cell_type": "code",
      "source": [
        "nome = 'outro codigo'\n",
        "print(nome)"
      ],
      "metadata": {
        "id": "vZTlnlVXGkqt",
        "colab": {
          "base_uri": "https://localhost:8080/"
        },
        "outputId": "01495ed0-d67e-42b7-d56f-388f14356b05"
      },
      "execution_count": 3,
      "outputs": [
        {
          "output_type": "stream",
          "name": "stdout",
          "text": [
            "outro codigo\n"
          ]
        }
      ]
    },
    {
      "cell_type": "code",
      "source": [],
      "metadata": {
        "id": "_cyLw0y2HBuG"
      },
      "execution_count": null,
      "outputs": []
    }
  ]
}